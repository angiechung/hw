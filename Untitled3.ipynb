{
  "nbformat": 4,
  "nbformat_minor": 0,
  "metadata": {
    "colab": {
      "provenance": []
    },
    "kernelspec": {
      "name": "python3",
      "display_name": "Python 3"
    },
    "language_info": {
      "name": "python"
    }
  },
  "cells": [
    {
      "cell_type": "code",
      "execution_count": null,
      "metadata": {
        "colab": {
          "base_uri": "https://localhost:8080/"
        },
        "id": "6eiJBCtdEh4X",
        "outputId": "b10ce343-5409-4b12-868f-6d8cae9eee03"
      },
      "outputs": [
        {
          "output_type": "stream",
          "name": "stdout",
          "text": [
            "\n",
            "您想查詢什麼？(藥方名稱/出典/處方/效能/適應症/退出查詢)：藥方名稱\n",
            "六君子湯（丸）\n",
            "\n",
            "您想查詢什麼？(藥方名稱/出典/處方/效能/適應症/退出查詢)：出典\n",
            "六君子湯（丸）的出典為:太平惠民和劑局方\n",
            "\n",
            "您想查詢什麼？(藥方名稱/出典/處方/效能/適應症/退出查詢)：處方\n",
            "六君子湯（丸）的處方為:\n",
            "人參：5公克\n",
            "白朮：5公克\n",
            "茯苓：5公克\n",
            "半夏：5公克\n",
            "炙甘草：2.5公克\n",
            "陳皮：2.5公克\n",
            "生薑：2.5公克\n",
            "大棗：2.5公克\n",
            "總克數為：30.0公克\n",
            "\n",
            "您想查詢什麼？(藥方名稱/出典/處方/效能/適應症/退出查詢)：效能\n",
            "六君子湯（丸）的效能是:補氣和中\n"
          ]
        }
      ],
      "source": [
        "\n",
        "prescription = {\n",
        "    '名稱': '六君子湯（丸）',\n",
        "    '出典': '太平惠民和劑局方',\n",
        "    '處方': {\n",
        "        '人參': 5,  # 公克\n",
        "        '白朮': 5,\n",
        "        '茯苓': 5,\n",
        "        '半夏': 5,\n",
        "        '炙甘草': 2.5,\n",
        "        '陳皮': 2.5,\n",
        "        '生薑': 2.5,\n",
        "        '大棗': 2.5\n",
        "    },\n",
        "    '效能': '補氣和中',\n",
        "    '適應症': ['脾胃虛弱', '食慾不振', '消化不良', '大便溏泄', '氣虛有痰']\n",
        "}\n",
        "while True:\n",
        "    query = input(\"\\n您想查詢什麼？(藥方名稱/出典/處方/效能/適應症/退出查詢)：\")\n",
        "\n",
        "    if query == \"藥方名稱\":\n",
        "        print(f\"{prescription['名稱']}\")\n",
        "    elif query == \"出典\":\n",
        "        print(f\"{prescription['名稱']}的出典為:{prescription['出典']}\")\n",
        "    elif query == \"適應症\":\n",
        "        print(f\"{prescription['名稱']}的適應症有:\")\n",
        "        for symptom in prescription['適應症']:\n",
        "            print(symptom)\n",
        "    elif query == \"處方\":\n",
        "        total_weight = sum(prescription['處方'].values())\n",
        "        print(f\"{prescription['名稱']}的處方為:\")\n",
        "        for medicine, weight in prescription['處方'].items():\n",
        "            print(f\"{medicine}：{weight}公克\")\n",
        "        print(f\"總克數為：{total_weight}公克\")\n",
        "    elif query == \"效能\":\n",
        "        print(f\"{prescription['名稱']}的效能是:{prescription['效能']}\")\n",
        "    elif query == \"退出查詢\":\n",
        "        print(\"感謝使用，再見！\")\n",
        "        break\n",
        "    else:\n",
        "        print(\"輸入無效，請重新輸入。\")"
      ]
    }
  ]
}